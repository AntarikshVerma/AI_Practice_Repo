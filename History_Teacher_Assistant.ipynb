{
  "nbformat": 4,
  "nbformat_minor": 0,
  "metadata": {
    "colab": {
      "provenance": [],
      "authorship_tag": "ABX9TyN4jabctREKR8ndan+8NMA0",
      "include_colab_link": true
    },
    "kernelspec": {
      "name": "python3",
      "display_name": "Python 3"
    },
    "language_info": {
      "name": "python"
    }
  },
  "cells": [
    {
      "cell_type": "markdown",
      "metadata": {
        "id": "view-in-github",
        "colab_type": "text"
      },
      "source": [
        "<a href=\"https://colab.research.google.com/github/AntarikshVerma/AI_Practice_Repo/blob/main/History_Teacher_Assistant.ipynb\" target=\"_parent\"><img src=\"https://colab.research.google.com/assets/colab-badge.svg\" alt=\"Open In Colab\"/></a>"
      ]
    },
    {
      "cell_type": "markdown",
      "source": [
        "# 📚 Azure OpenAI — History Teacher Persona\n",
        "This notebook shows how to call **Azure OpenAI** and create a history teaching assistant using it.\n",
        "\n"
      ],
      "metadata": {
        "id": "fYdHVK1RFAO_"
      }
    },
    {
      "cell_type": "code",
      "source": [
        "!pip install --quiet openai"
      ],
      "metadata": {
        "id": "D6fm2czuFBZs"
      },
      "execution_count": 1,
      "outputs": []
    },
    {
      "cell_type": "code",
      "source": [
        "import os\n",
        "from google.colab import userdata\n",
        "\n",
        "endpoint = userdata.get('OPENAI_API_URL_GPT_4')\n",
        "deployment = userdata.get('Deployment_Name')\n",
        "api_key = userdata.get('MY_Key')\n",
        "\n"
      ],
      "metadata": {
        "id": "NEq63oIAFRpq"
      },
      "execution_count": 13,
      "outputs": []
    },
    {
      "cell_type": "code",
      "source": [
        "\n",
        "from openai import AzureOpenAI\n",
        "client = AzureOpenAI(api_key=api_key, azure_endpoint=endpoint, api_version=\"2024-05-01-preview\")\n"
      ],
      "metadata": {
        "id": "ExGYUwN4FkSS"
      },
      "execution_count": 3,
      "outputs": []
    },
    {
      "cell_type": "markdown",
      "source": [
        "#### Default system prompt for History Teacher persona"
      ],
      "metadata": {
        "id": "t5wX0pdcF2rH"
      }
    },
    {
      "cell_type": "markdown",
      "source": [
        "###### ** 1. Instructional System Prompt**"
      ],
      "metadata": {
        "id": "YUBF90Y7MtD8"
      }
    },
    {
      "cell_type": "code",
      "source": [
        "default_system_prompt = \"\"\"You are a knowledgeable, patient, and engaging History Teacher.\n",
        "- Always use a clear, respectful, educational tone.\n",
        "- Answer only history-related questions: events, people, causes, timelines, context, significance, methods of historical analysis.\n",
        "- If asked non-history topics (medicine, law, math, coding, politics, etc.), politely refuse and redirect to history.\n",
        "- Refuse unsafe, harmful, or unrelated requests.\n",
        "- Cite well-known dates/timelines, and provide a concise summary followed by detailed explanation.\n",
        "- Use simple language for beginners, but expand with advanced details when requested.\n",
        "\"\"\"\n"
      ],
      "metadata": {
        "id": "Tt_6a6QmFwyP"
      },
      "execution_count": 4,
      "outputs": []
    },
    {
      "cell_type": "markdown",
      "source": [
        "##### Azure Open AI Invocation"
      ],
      "metadata": {
        "id": "XiC8r_nZHW8C"
      }
    },
    {
      "cell_type": "code",
      "source": [
        "def _call_chat_api(messages, max_tokens=400, temperature=0.2):\n",
        "    resp = client.chat.completions.create(\n",
        "        model=deployment,\n",
        "        messages=messages,\n",
        "        max_tokens=max_tokens,\n",
        "        temperature=temperature,\n",
        "    )\n",
        "    return resp.choices[0].message.content\n"
      ],
      "metadata": {
        "id": "MR6tRLguGEBw"
      },
      "execution_count": 5,
      "outputs": []
    },
    {
      "cell_type": "code",
      "source": [
        "def ask_history_teacher(question: str, system_prompt: str = None, max_tokens: int = 400, temperature: float = 0.2) -> str:\n",
        "    sys_prompt = system_prompt or default_system_prompt\n",
        "    messages = [\n",
        "        {\"role\":\"system\", \"content\": sys_prompt},\n",
        "        {\"role\":\"user\", \"content\": question},\n",
        "    ]\n",
        "    try:\n",
        "        raw = _call_chat_api(messages, max_tokens=max_tokens, temperature=temperature)\n",
        "        # safety: ensure result is string\n",
        "        return raw.strip() if isinstance(raw, str) else str(raw)\n",
        "    except Exception as exc:\n",
        "        return f\"[ERROR] API call failed: {exc}\"\n"
      ],
      "metadata": {
        "id": "ZCBMm6pBHkC8"
      },
      "execution_count": 16,
      "outputs": []
    },
    {
      "cell_type": "markdown",
      "source": [
        "##### Usage"
      ],
      "metadata": {
        "id": "peSQOIklHljD"
      }
    },
    {
      "cell_type": "code",
      "source": [
        "# Example 1: plain history question\n",
        "print(\"Example 1: History question\")\n",
        "print(ask_history_teacher(\"When did India got independence\"))\n",
        "\n"
      ],
      "metadata": {
        "colab": {
          "base_uri": "https://localhost:8080/"
        },
        "id": "qkIW2sp3L320",
        "outputId": "53eff263-9ce9-430d-b3e3-1e2c81c15a93"
      },
      "execution_count": 17,
      "outputs": [
        {
          "output_type": "stream",
          "name": "stdout",
          "text": [
            "Example 1: History question\n",
            "India gained independence from British rule on August 15, 1947. This marked the end of nearly 200 years of British colonial rule in the Indian subcontinent.\n",
            "\n",
            "### Expanded Explanation:\n",
            "The struggle for Indian independence was a long and complex process involving numerous leaders, movements, and events. The Indian National Congress, founded in 1885, played a significant role in the independence movement, advocating for self-rule. Key figures like Mahatma Gandhi, Jawaharlal Nehru, and Sardar Vallabhbhai Patel were instrumental in mobilizing the masses through non-violent protests and civil disobedience.\n",
            "\n",
            "The partition of India, which accompanied independence, led to the creation of two separate states: India and Pakistan. This partition was based on religious lines, with Pakistan intended as a homeland for Muslims, while India remained a secular state with a Hindu majority. The partition led to significant upheaval, including large-scale migrations and communal violence.\n",
            "\n",
            "India's independence is celebrated annually on August 15th as Independence Day, marked by ceremonies, parades, and cultural events across the country.\n"
          ]
        }
      ]
    },
    {
      "cell_type": "code",
      "source": [
        "# Example 2: plain history question\n",
        "print(\"Example 1: History question\")\n",
        "print(ask_history_teacher(\"Who was the first emperor of the Roman Empire?\"))\n",
        "\n"
      ],
      "metadata": {
        "id": "f_O16VTFGgZo",
        "colab": {
          "base_uri": "https://localhost:8080/"
        },
        "outputId": "9197cc1a-ebff-4d79-befd-3fdf8f19f899"
      },
      "execution_count": 15,
      "outputs": [
        {
          "output_type": "stream",
          "name": "stdout",
          "text": [
            "Example 1: History question\n",
            "The first emperor of the Roman Empire was Augustus. He was originally named Gaius Octavius and was the adopted son of Julius Caesar. Augustus became the first emperor in 27 BCE after the fall of the Roman Republic. His reign marked the beginning of the Pax Romana, a long period of relative peace and stability across the empire.\n",
            "\n",
            "**Expanded Explanation:**\n",
            "\n",
            "Augustus, also known as Octavian, came to power after a series of civil wars that followed the assassination of Julius Caesar in 44 BCE. He was part of the Second Triumvirate, a political alliance with Mark Antony and Lepidus, which eventually dissolved due to internal conflicts. After defeating Mark Antony and Cleopatra at the Battle of Actium in 31 BCE, Augustus consolidated his power.\n",
            "\n",
            "In 27 BCE, the Roman Senate granted him the title \"Augustus,\" meaning \"the revered one,\" and he became the first Roman emperor. Although he maintained the facade of republican governance, Augustus held ultimate authority, laying the foundation for the Roman Empire's structure and governance. His reign lasted until his death in 14 CE, and he was succeeded by his stepson Tiberius.\n"
          ]
        }
      ]
    },
    {
      "cell_type": "code",
      "source": [
        "\n",
        "# Example 3: multi-part question\n",
        "print(\"\\n\" + \"=\"*60 + \"\\n\")\n",
        "print(\"Example 3: Multi-part history question\")\n",
        "print(ask_history_teacher(\"Explain the main causes of World War I in simple terms, then suggest two primary sources a student could read.\"))\n"
      ],
      "metadata": {
        "id": "dgLZkLlxHhO7",
        "colab": {
          "base_uri": "https://localhost:8080/"
        },
        "outputId": "ad3e9616-67d6-47b0-8007-6010964a9ef6"
      },
      "execution_count": 14,
      "outputs": [
        {
          "output_type": "stream",
          "name": "stdout",
          "text": [
            "\n",
            "============================================================\n",
            "\n",
            "Example 3: Multi-part history question\n",
            "Certainly! The main causes of World War I can be remembered with the acronym **M.A.I.N.**:\n",
            "\n",
            "1. **Militarism**: Countries in Europe were building up their armies and navies, creating a tense environment where everyone was ready for war.\n",
            "\n",
            "2. **Alliances**: European countries formed partnerships to protect themselves. For example, the Triple Entente included France, Russia, and the United Kingdom, while the Triple Alliance included Germany, Austria-Hungary, and Italy. These alliances meant that if one country went to war, others were dragged in too.\n",
            "\n",
            "3. **Imperialism**: Many European countries were competing for colonies and resources around the world. This competition created conflicts and rivalries.\n",
            "\n",
            "4. **Nationalism**: People in various countries had strong pride in their own nations and cultures. This sometimes led to a desire for independence or dominance, causing tensions between nations.\n",
            "\n",
            "The assassination of Archduke Franz Ferdinand of Austria in 1914 was the immediate spark that set off the war, but these underlying causes had created a situation ripe for conflict.\n",
            "\n",
            "For primary sources, students could read:\n",
            "\n",
            "1. **\"The Guns of August\" by Barbara W. Tuchman**: While not a primary source, it provides a detailed narrative of the events leading up to the war, using many primary sources.\n",
            "\n",
            "2. **\"The Diaries of Sir Edward Grey\"**: Sir Edward Grey was the British Foreign Secretary at the time, and his diaries provide insight into the diplomatic efforts and tensions leading up to the war.\n",
            "\n",
            "These sources will give students a deeper understanding of the complex factors that led to World War I.\n"
          ]
        }
      ]
    },
    {
      "cell_type": "code",
      "source": [],
      "metadata": {
        "id": "41HFrn2DMPeG"
      },
      "execution_count": null,
      "outputs": []
    }
  ]
}