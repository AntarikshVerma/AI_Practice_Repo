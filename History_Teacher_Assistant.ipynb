{
  "nbformat": 4,
  "nbformat_minor": 0,
  "metadata": {
    "colab": {
      "provenance": [],
      "authorship_tag": "ABX9TyO40z9qLm5RNH2xwueQL1+V",
      "include_colab_link": true
    },
    "kernelspec": {
      "name": "python3",
      "display_name": "Python 3"
    },
    "language_info": {
      "name": "python"
    }
  },
  "cells": [
    {
      "cell_type": "markdown",
      "metadata": {
        "id": "view-in-github",
        "colab_type": "text"
      },
      "source": [
        "<a href=\"https://colab.research.google.com/github/AntarikshVerma/AI_Practice_Repo/blob/main/History_Teacher_Assistant.ipynb\" target=\"_parent\"><img src=\"https://colab.research.google.com/assets/colab-badge.svg\" alt=\"Open In Colab\"/></a>"
      ]
    },
    {
      "cell_type": "markdown",
      "source": [
        "# 📚 Azure OpenAI — History Teacher Persona\n",
        "This notebook shows how to call **Azure OpenAI** and create a history teaching assistant using it.\n",
        "\n"
      ],
      "metadata": {
        "id": "fYdHVK1RFAO_"
      }
    },
    {
      "cell_type": "code",
      "source": [
        "!pip install --quiet openai"
      ],
      "metadata": {
        "id": "D6fm2czuFBZs"
      },
      "execution_count": null,
      "outputs": []
    },
    {
      "cell_type": "code",
      "source": [
        "import os\n",
        "from google.colab import userdata\n",
        "open_ai_key=userdata.get('OPENAI_API_KEY_GPT_4')\n",
        "open_ai_base=userdata.get('OPENAI_API_URL_GPT_4')\n",
        "\n",
        "api_key = open_ai_key\n",
        "endpoint = open_ai_base\n",
        "deployment = \"gpt-4o\"\n"
      ],
      "metadata": {
        "id": "NEq63oIAFRpq"
      },
      "execution_count": null,
      "outputs": []
    },
    {
      "cell_type": "code",
      "source": [
        "\n",
        "from openai import AzureOpenAI\n",
        "client = AzureOpenAI(api_key=api_key, azure_endpoint=endpoint, api_version=\"2024-05-01-preview\")\n"
      ],
      "metadata": {
        "id": "ExGYUwN4FkSS"
      },
      "execution_count": null,
      "outputs": []
    },
    {
      "cell_type": "markdown",
      "source": [
        "#### Default system prompt for History Teacher persona"
      ],
      "metadata": {
        "id": "t5wX0pdcF2rH"
      }
    },
    {
      "cell_type": "code",
      "source": [
        "default_system_prompt = \"\"\"You are a knowledgeable, patient, and engaging **History Teacher**.\n",
        "- Always adopt a clear, respectful, educational tone.\n",
        "- Answer only history-related questions (events, people, causes, timelines, context, significance, methods of historical analysis).\n",
        "- If the user asks about non-history topics (medical advice, legal, real-time political campaigning, coding how-tos, etc.), politely refuse and redirect to historical context where possible.\n",
        "- Refuse or do not provide content that is unsafe or requests facilitation of wrongdoing.\n",
        "- When relevant, cite widely-known dates, timelines, and provide concise summaries first and then expanded explanation sections.\n",
        "- Use simple language for learners, but be ready to provide advanced detail when asked.\n",
        "\"\"\"\n"
      ],
      "metadata": {
        "id": "Tt_6a6QmFwyP"
      },
      "execution_count": null,
      "outputs": []
    },
    {
      "cell_type": "markdown",
      "source": [
        "##### Azure Open AI Invocation"
      ],
      "metadata": {
        "id": "XiC8r_nZHW8C"
      }
    },
    {
      "cell_type": "code",
      "source": [
        "def _call_chat_api(messages, max_tokens=400, temperature=0.2):\n",
        "    resp = client.chat.completions.create(\n",
        "        model=deployment,\n",
        "        messages=messages,\n",
        "        max_tokens=max_tokens,\n",
        "        temperature=temperature,\n",
        "    )\n",
        "    # Most modern clients return choices[0].message.content\n",
        "    return resp.choices[0].message.content\n"
      ],
      "metadata": {
        "id": "MR6tRLguGEBw"
      },
      "execution_count": null,
      "outputs": []
    },
    {
      "cell_type": "code",
      "source": [
        "def ask_history_teacher(question: str, system_prompt: str = None, max_tokens: int = 400, temperature: float = 0.2) -> str:\n",
        "    sys_prompt = system_prompt or default_system_prompt\n",
        "    messages = [\n",
        "        {\"role\":\"system\", \"content\": sys_prompt},\n",
        "        {\"role\":\"user\", \"content\": question},\n",
        "    ]\n",
        "    try:\n",
        "        raw = _call_chat_api(messages, max_tokens=max_tokens, temperature=temperature)\n",
        "        # safety: ensure result is string\n",
        "        return raw.strip() if isinstance(raw, str) else str(raw)\n",
        "    except Exception as exc:\n",
        "        return f\"[ERROR] API call failed: {exc}\"\n"
      ],
      "metadata": {
        "id": "ZCBMm6pBHkC8"
      },
      "execution_count": null,
      "outputs": []
    },
    {
      "cell_type": "markdown",
      "source": [
        "##### Usage"
      ],
      "metadata": {
        "id": "peSQOIklHljD"
      }
    },
    {
      "cell_type": "code",
      "source": [
        "# Example 1: plain history question\n",
        "print(\"Example 1: History question\")\n",
        "print(ask_history_teacher(\"Who was the first emperor of the Roman Empire?\"))\n",
        "print(\"\\n\" + \"=\"*60 + \"\\n\")\n",
        "\n"
      ],
      "metadata": {
        "id": "f_O16VTFGgZo"
      },
      "execution_count": null,
      "outputs": []
    },
    {
      "cell_type": "code",
      "source": [
        "# Example 2: non-history question to test guardrails\n",
        "print(\"Example 2: Non-history question (should be refused/redirected)\")\n",
        "print(ask_history_teacher(\"What is 2+2?\"))\n"
      ],
      "metadata": {
        "id": "RplCEGtIHf3e"
      },
      "execution_count": null,
      "outputs": []
    },
    {
      "cell_type": "code",
      "source": [
        "\n",
        "# Example 3: multi-part question\n",
        "print(\"\\n\" + \"=\"*60 + \"\\n\")\n",
        "print(\"Example 3: Multi-part history question\")\n",
        "print(ask_history_teacher(\"Explain the main causes of World War I in simple terms, then suggest two primary sources a student could read.\"))\n"
      ],
      "metadata": {
        "id": "dgLZkLlxHhO7"
      },
      "execution_count": null,
      "outputs": []
    }
  ]
}